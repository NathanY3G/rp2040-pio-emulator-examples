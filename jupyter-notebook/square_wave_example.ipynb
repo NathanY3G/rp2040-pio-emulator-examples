{
 "cells": [
  {
   "cell_type": "markdown",
   "id": "transsexual-factor",
   "metadata": {},
   "source": [
    "# Square Wave Example"
   ]
  },
  {
   "cell_type": "code",
   "execution_count": 1,
   "id": "married-animal",
   "metadata": {},
   "outputs": [],
   "source": [
    "%matplotlib inline\n",
    "import matplotlib.pyplot as plt\n",
    "import seaborn as sns\n",
    "from pioemu import clock_cycles_reached, emulate, State"
   ]
  },
  {
   "cell_type": "markdown",
   "id": "deadly-essay",
   "metadata": {},
   "source": [
    "## Introduction"
   ]
  },
  {
   "cell_type": "markdown",
   "id": "conceptual-assistant",
   "metadata": {},
   "source": [
    "This notebook demonstrates the emulation of a PIO program for the Raspberry Pi Foundation's RP2040 Microcontroller. This program produces a square-wave output with a 50% duty cycle."
   ]
  },
  {
   "cell_type": "markdown",
   "id": "eight-inspiration",
   "metadata": {},
   "source": [
    "## PIO Program"
   ]
  },
  {
   "cell_type": "markdown",
   "id": "signed-short",
   "metadata": {},
   "source": [
    "Below is the PIO program that will be emulated. Try changing it and observing the results!"
   ]
  },
  {
   "cell_type": "code",
   "execution_count": 2,
   "id": "aquatic-transsexual",
   "metadata": {},
   "outputs": [],
   "source": [
    "program = [\n",
    "    0xE081,  # 0: set pindirs, 1\n",
    "    0xE101,  # 1: set pins, 1 [1]\n",
    "    0xE000,  # 2: set pins, 0\n",
    "    0x0001,  # 3: jmp 1\n",
    "]"
   ]
  },
  {
   "cell_type": "markdown",
   "id": "satellite-grocery",
   "metadata": {},
   "source": [
    "## Emulation"
   ]
  },
  {
   "cell_type": "code",
   "execution_count": 3,
   "id": "falling-broadcast",
   "metadata": {},
   "outputs": [],
   "source": [
    "pin_value_series = [\n",
    "    (state.clock, state.pin_values & 0x01)\n",
    "    for _, state in emulate(program, stop_when=clock_cycles_reached(32 + 1))\n",
    "]"
   ]
  },
  {
   "cell_type": "markdown",
   "id": "arranged-fellowship",
   "metadata": {},
   "source": [
    "## Output on Pin GP0"
   ]
  },
  {
   "cell_type": "code",
   "execution_count": 4,
   "id": "continuous-times",
   "metadata": {},
   "outputs": [
    {
     "data": {
      "image/png": "[encoded data removed]",
      "text/plain": [
       "<Figure size 1600x100 with 1 Axes>"
      ]
     },
     "metadata": {},
     "output_type": "display_data"
    }
   ],
   "source": [
    "x_values = [clock for clock, logic_level in pin_value_series]\n",
    "y_values = [logic_level for clock, logic_level in pin_value_series]\n",
    "\n",
    "sns.set_style(\"darkgrid\")\n",
    "figure = plt.figure(figsize=(16, 1))\n",
    "plot = sns.lineplot(x=x_values, y=y_values, drawstyle=\"steps-pre\")\n",
    "plot.set_xlabel(\"Clock cycles\", fontsize = 16)\n",
    "_ = plot.set_xticks(range(0, x_values[-1]))"
   ]
  }
 ],
 "metadata": {
  "kernelspec": {
   "display_name": "Python 3 (ipykernel)",
   "language": "python",
   "name": "python3"
  },
  "language_info": {
   "codemirror_mode": {
    "name": "ipython",
    "version": 3
   },
   "file_extension": ".py",
   "mimetype": "text/x-python",
   "name": "python",
   "nbconvert_exporter": "python",
   "pygments_lexer": "ipython3",
   "version": "3.11.2"
  }
 },
 "nbformat": 4,
 "nbformat_minor": 5
}
