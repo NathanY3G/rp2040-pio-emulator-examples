{
 "cells": [
  {
   "cell_type": "markdown",
   "id": "2924069b-b1ac-47ed-b1d3-b8408882e200",
   "metadata": {},
   "source": [
    "# Serial Peripheral Interface Example"
   ]
  },
  {
   "cell_type": "code",
   "execution_count": 1,
   "id": "married-animal",
   "metadata": {},
   "outputs": [],
   "source": [
    "%matplotlib inline\n",
    "import matplotlib.pyplot as plt\n",
    "from pioemu import clock_cycles_reached, emulate, State\n",
    "from adafruit_pioasm import Program\n",
    "from collections import deque"
   ]
  },
  {
   "cell_type": "markdown",
   "id": "deadly-essay",
   "metadata": {},
   "source": [
    "## Introduction"
   ]
  },
  {
   "cell_type": "markdown",
   "id": "conceptual-assistant",
   "metadata": {},
   "source": [
    "This notebook demonstrates the emulation of a PIO program for the Raspberry Pi Foundation's RP2040 Microcontroller. The PIO program is a SPI transciever"
   ]
  },
  {
   "cell_type": "markdown",
   "id": "eight-inspiration",
   "metadata": {},
   "source": [
    "## PIO Program"
   ]
  },
  {
   "cell_type": "markdown",
   "id": "signed-short",
   "metadata": {},
   "source": [
    "Below is the PIO program that will be emulated. Try changing it and observing the results!"
   ]
  },
  {
   "cell_type": "code",
   "execution_count": 2,
   "id": "aquatic-transsexual",
   "metadata": {},
   "outputs": [
    {
     "name": "stdout",
     "output_type": "stream",
     "text": [
      "array('H', [24577, 20481])\n",
      "{'sideset_enable': False, 'sideset_pin_count': 1}\n"
     ]
    }
   ],
   "source": [
    "asm = Program('''\n",
    "; Adapted from https://github.com/raspberrypi/pico-examples/blob/master/pio/spi/spi.pio\n",
    "; Copyright (c) 2020 Raspberry Pi (Trading) Ltd.\n",
    "; SPDX-License-Identifier: BSD-3-Clause\n",
    "; This program implement full-duplex SPI, with a SCK period of 2 clock cycles.\n",
    "\n",
    ".program spi_cpha0\n",
    ".side_set 1\n",
    "\n",
    "; Pin assignments:\n",
    "; - SCK is side-set pin 2\n",
    "; - MOSI is OUT pin 0\n",
    "; - MISO is IN pin 0\n",
    ";\n",
    "; Autopush and autopull must be enabled, and the serial frame size is set by\n",
    "; configuring the push/pull threshold. Shift left/right is fine, but you must\n",
    "; justify the data yourself. This is done most conveniently for frame sizes of\n",
    "; 8 or 16 bits by using the narrow store replication and narrow load byte\n",
    "; picking behaviour of RP2040's IO fabric.\n",
    "\n",
    "; Clock phase = 0: data is captured on the leading edge of each SCK pulse, and\n",
    "; transitions on the trailing edge, or some time before the first leading edge.\n",
    "\n",
    "    out pins, 1 side 0 ; Output on falling edge\n",
    "    in pins, 1  side 1 ; Input on rising edge\n",
    "''')\n",
    "\n",
    "program = asm.assembled\n",
    "print(program)\n",
    "print(asm.pio_kwargs)"
   ]
  },
  {
   "cell_type": "markdown",
   "id": "satellite-grocery",
   "metadata": {},
   "source": [
    "## Emulation"
   ]
  },
  {
   "cell_type": "code",
   "execution_count": 3,
   "id": "falling-broadcast",
   "metadata": {},
   "outputs": [],
   "source": [
    "class Clocked:\n",
    "    def __init__(self, data,bits):\n",
    "        self.data = data\n",
    "        self.i = bits\n",
    "        self.prev = 0\n",
    "    def next(self, state:State) -> int:\n",
    "        clk = state.pin_values & 4\n",
    "        if clk and not self.prev:\n",
    "            self.i -= 1\n",
    "        self.prev = clk\n",
    "        mask = 1<<self.i if self.i>=0 else 0\n",
    "        return 1 if self.data & mask else 0\n",
    "\n",
    "tx_bytes = [0x13,0x76,0x56,0x9A]\n",
    "init = State(transmit_fifo=deque([x<<24 | x<<16 | x<<8 | x for x in tx_bytes]), #narrow store replication\n",
    "                                 pin_directions=0x06)\n",
    "\n",
    "pin_value_series = [\n",
    "    (state.clock, state.pin_values, state.receive_fifo.pop() if state.receive_fifo else None)\n",
    "    for _, state in emulate(program, stop_when=clock_cycles_reached(32 + 1),\n",
    "                            initial_state = init,\n",
    "                            input_source=Clocked(0x96F1,15).next, \n",
    "                            auto_pull=True, \n",
    "                            auto_push=True, \n",
    "                            pull_threshold=8, \n",
    "                            push_threshold=8,\n",
    "                            shift_isr_right=False,\n",
    "                            shift_osr_right=False,\n",
    "                            side_set_base=2, \n",
    "                            side_set_count=asm.pio_kwargs['sideset_pin_count'],\n",
    "                            out_base=1,\n",
    "                            out_count=1,\n",
    "                            #wrap_target=asm.pio_kwargs['wrap_target'],\n",
    "                            #wrap_top=asm.pio_kwargs['wrap_top'],\n",
    "                           )\n",
    "]"
   ]
  },
  {
   "cell_type": "markdown",
   "id": "arranged-fellowship",
   "metadata": {},
   "source": [
    "## Signal timings\n",
    "\n",
    "This represents the view seen by the PIO.\n",
    "MISO appears to be delayed by one clock cycle because this is when the state machine *samples* the input data, even though the new data would have been available at the pins shortly after the SCK edge."
   ]
  },
  {
   "cell_type": "code",
   "execution_count": 4,
   "id": "continuous-times",
   "metadata": {},
   "outputs": [
    {
     "data": {
      "image/png": "[encoded data removed]",
      "text/plain": [
       "<Figure size 1600x300 with 3 Axes>"
      ]
     },
     "metadata": {},
     "output_type": "display_data"
    }
   ],
   "source": [
    "t = [clock for clock, _, _ in pin_value_series]\n",
    "def binary_plot(names):\n",
    "    n = len(names)\n",
    "    fig, axes = plt.subplots(n,1,sharex=True,sharey=True, figsize=(16,3))\n",
    "    try:\n",
    "        axes[0]\n",
    "    except:\n",
    "        axes = [axes]\n",
    "    for i in range(n):\n",
    "        axes[i].step(t,  [1 if x[1]&(1<<i) else 0 for x in pin_value_series])\n",
    "        axes[i].set_ylabel(names[i])\n",
    "    axes[-1].set_xlabel('PIO Clock Cycles')\n",
    "    plt.yticks([0,1])\n",
    "    plt.xticks(t)\n",
    "\n",
    "binary_plot(['MISO','MOSI','SCK'])"
   ]
  },
  {
   "cell_type": "markdown",
   "id": "00895d6d-0c96-4c73-8f34-ea63cebd8953",
   "metadata": {},
   "source": [
    "# Received Data"
   ]
  },
  {
   "cell_type": "code",
   "execution_count": 5,
   "id": "c1342dda-2968-4b1d-8005-2d0b2f29e85a",
   "metadata": {},
   "outputs": [
    {
     "data": {
      "text/plain": [
       "['0x96', '0xf1']"
      ]
     },
     "execution_count": 5,
     "metadata": {},
     "output_type": "execute_result"
    }
   ],
   "source": [
    "[hex(b) for _,_,b in pin_value_series if b is not None]"
   ]
  },
  {
   "cell_type": "code",
   "execution_count": null,
   "id": "67a38701-62ea-49a2-a346-4655847ae8c1",
   "metadata": {},
   "outputs": [],
   "source": []
  }
 ],
 "metadata": {
  "kernelspec": {
   "display_name": ".venv",
   "language": "python",
   "name": ".venv"
  },
  "language_info": {
   "codemirror_mode": {
    "name": "ipython",
    "version": 3
   },
   "file_extension": ".py",
   "mimetype": "text/x-python",
   "name": "python",
   "nbconvert_exporter": "python",
   "pygments_lexer": "ipython3",
   "version": "3.13.7"
  }
 },
 "nbformat": 4,
 "nbformat_minor": 5
}
