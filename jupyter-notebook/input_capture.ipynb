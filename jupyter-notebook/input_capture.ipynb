{
 "cells": [
  {
   "cell_type": "markdown",
   "id": "e0a24f58-151d-4db3-b757-1db9086cb49c",
   "metadata": {},
   "source": [
    "# Input Capture Peripheral Example"
   ]
  },
  {
   "cell_type": "code",
   "execution_count": 6,
   "id": "married-animal",
   "metadata": {},
   "outputs": [],
   "source": [
    "%matplotlib inline\n",
    "import matplotlib.pyplot as plt\n",
    "import numpy as np\n",
    "from pioemu import conditions, emulate, State\n",
    "from adafruit_pioasm import Program\n",
    "from collections import deque"
   ]
  },
  {
   "cell_type": "markdown",
   "id": "deadly-essay",
   "metadata": {},
   "source": [
    "## Introduction"
   ]
  },
  {
   "cell_type": "markdown",
   "id": "conceptual-assistant",
   "metadata": {},
   "source": [
    "This notebook demonstrates the emulation of a PIO program for the Raspberry Pi Foundation's RP2040 Microcontroller. The PIO program is an input capture device for measuring pulse width"
   ]
  },
  {
   "cell_type": "markdown",
   "id": "eight-inspiration",
   "metadata": {},
   "source": [
    "## PIO Program"
   ]
  },
  {
   "cell_type": "markdown",
   "id": "signed-short",
   "metadata": {},
   "source": [
    "The program below measures the width of low-pulses, but it has the following limitations:\n",
    "- High-pulses must be at list 6 clock cycles\n",
    "- Low-pulses are measured in even numbers only\n",
    "\n",
    "Try changing it and observe the results!"
   ]
  },
  {
   "cell_type": "code",
   "execution_count": 33,
   "id": "aquatic-transsexual",
   "metadata": {},
   "outputs": [
    {
     "name": "stdout",
     "output_type": "stream",
     "text": [
      "['0xe021', '0x2020', '0xa029', '0xc5', '0x43', '0xa029', '0x403f', '0x4061', '0x8000']\n"
     ]
    }
   ],
   "source": [
    "asm = Program('''\n",
    ".program input_capture\n",
    "    set x, 1\n",
    "    wait 0 pin 0         ;Wait for falling edge\n",
    "public start_capture:\n",
    "    mov x, !x            ;Set X to -2\n",
    "do_count:                ;Count cycles until rising edge\n",
    "    jmp pin end_capture\n",
    "    jmp x-- do_count     ; Decrement X\n",
    "public end_capture:\n",
    "    mov x, !x            ;Negate X again\n",
    "    in x, 31\n",
    "    in null, 1           ;Multiply by 2\n",
    "    push noblock\n",
    "''')\n",
    "\n",
    "program = asm.assembled\n",
    "print([hex(x) for x in program])"
   ]
  },
  {
   "cell_type": "markdown",
   "id": "satellite-grocery",
   "metadata": {},
   "source": [
    "## Emulation"
   ]
  },
  {
   "cell_type": "code",
   "execution_count": 30,
   "id": "falling-broadcast",
   "metadata": {},
   "outputs": [],
   "source": [
    "class Pwm:\n",
    "    def __init__(self, widths):\n",
    "        self.xs = np.cumsum(widths) #Calculate transition times\n",
    "        self.xs = np.append(self.xs, 2**62 - 1)   #Make sure we don't exceed the last transition\n",
    "        self.val = 0\n",
    "        self.mask = 1<<0 #For bit zero\n",
    "        self.i = 0\n",
    "    def next(self, state:State):\n",
    "        if state.clock >= self.xs[self.i]:\n",
    "            self.val ^= self.mask #Toggle value\n",
    "            self.i += 1\n",
    "        return self.val\n",
    "\n",
    "init = State(pin_directions=0x00)\n",
    "\n",
    "trace = [\n",
    "    (state.clock, state.pin_values, state.program_counter, state.receive_fifo.pop() if state.receive_fifo else None)\n",
    "    for _, state in emulate(program, \n",
    "                    stop_when=conditions.clock_cycles_reached(120),\n",
    "                    initial_state = init,\n",
    "                    input_source=Pwm(list(range(20))).next,\n",
    "                    shift_isr_right = False,\n",
    "                   )\n",
    "]"
   ]
  },
  {
   "cell_type": "markdown",
   "id": "arranged-fellowship",
   "metadata": {},
   "source": [
    "## Output on Pin GP0"
   ]
  },
  {
   "cell_type": "code",
   "execution_count": 31,
   "id": "continuous-times",
   "metadata": {
    "scrolled": true
   },
   "outputs": [
    {
     "data": {
      "image/png": "[encoded data removed]",
      "text/plain": [
       "<Figure size 1600x300 with 1 Axes>"
      ]
     },
     "metadata": {},
     "output_type": "display_data"
    }
   ],
   "source": [
    "t = [x[0] for x in trace]\n",
    "\n",
    "execution = [x[2] for x in trace]\n",
    "crossref = {value:key for key,value in asm.public_labels.items()}\n",
    "execution = [crossref[x] if x in crossref else x for x in execution]\n",
    "\n",
    "def binary_plot(names):\n",
    "    n = len(names)\n",
    "    fig, axes = plt.subplots(n,1,sharex=True,sharey=True, figsize=(16,3))\n",
    "    if not isinstance(axes, list):\n",
    "        axes = [axes]\n",
    "    for i in range(n):\n",
    "        axes[i].step(t,  [1 if x[1]&(1<<i) else 0 for x in trace])\n",
    "        axes[i].set_ylabel(names[i])\n",
    "    axes[0].set_xlabel('PIO Clock Cycles')\n",
    "    plt.yticks([0,1])\n",
    "    plt.xticks([n for n,e in zip(t,execution) if type(e) is type('')]) #Only label the named transitions\n",
    "\n",
    "binary_plot(['Input'])"
   ]
  },
  {
   "cell_type": "code",
   "execution_count": 29,
   "id": "6663ba0a-0824-4f24-bcf1-9e0bc9eaae3f",
   "metadata": {},
   "outputs": [
    {
     "name": "stdout",
     "output_type": "stream",
     "text": [
      "[2, 2, 4, 8, 10, 12]\n"
     ]
    }
   ],
   "source": [
    "captures = [x[3] for x in trace if x[3] is not None]\n",
    "print(captures)"
   ]
  },
  {
   "cell_type": "code",
   "execution_count": null,
   "id": "02165863-5afd-4c4a-a65a-052a59f276da",
   "metadata": {},
   "outputs": [],
   "source": []
  }
 ],
 "metadata": {
  "kernelspec": {
   "display_name": ".venv",
   "language": "python",
   "name": ".venv"
  },
  "language_info": {
   "codemirror_mode": {
    "name": "ipython",
    "version": 3
   },
   "file_extension": ".py",
   "mimetype": "text/x-python",
   "name": "python",
   "nbconvert_exporter": "python",
   "pygments_lexer": "ipython3",
   "version": "3.13.7"
  }
 },
 "nbformat": 4,
 "nbformat_minor": 5
}
